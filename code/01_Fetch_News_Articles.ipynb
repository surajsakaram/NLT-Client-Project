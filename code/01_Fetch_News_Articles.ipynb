{
 "cells": [
  {
   "cell_type": "markdown",
   "metadata": {},
   "source": [
    "# Fetch News Articles using News API\n",
    "---\n",
    "\n",
    "### Objective: \n",
    "Use News API to retrieve news articles about natural disasters, store into dataframe, and save as a csv file. "
   ]
  },
  {
   "cell_type": "code",
   "execution_count": 1,
   "metadata": {},
   "outputs": [],
   "source": [
    "import requests\n",
    "import pandas as pd"
   ]
  },
  {
   "cell_type": "code",
   "execution_count": 2,
   "metadata": {},
   "outputs": [],
   "source": [
    "# Define params for News API\n",
    "\n",
    "url = 'https://newsapi.org/v2/everything?'\n",
    "\n",
    "param = {\n",
    "    'q'        : '',\n",
    "    'apiKey'   : 'e685d6e1420f4882b86d029ed3c1a11d',\n",
    "    'pageSize' : 100,\n",
    "    'language' : 'en',\n",
    "    'sortBy'   : 'relevancy',\n",
    "    'page'     : 1\n",
    "}"
   ]
  },
  {
   "cell_type": "code",
   "execution_count": 6,
   "metadata": {},
   "outputs": [],
   "source": [
    "# Request articles for natural disasters\n",
    "data = []\n",
    "disasters = ['wildfire', 'earthquake', 'flood']\n",
    "\n",
    "for disaster in disasters:\n",
    "    for page in range(1, 11):\n",
    "        param['page'] = page\n",
    "        param['q'] = disaster\n",
    "        response = requests.get(url = url, headers = {'User-agent': 'Infinity browser'}, params = param)\n",
    "        json = response.json()['articles']\n",
    "        data.extend(json)    \n",
    "df = pd.DataFrame(data)"
   ]
  },
  {
   "cell_type": "code",
   "execution_count": 7,
   "metadata": {},
   "outputs": [
    {
     "data": {
      "text/html": [
       "<div>\n",
       "<style scoped>\n",
       "    .dataframe tbody tr th:only-of-type {\n",
       "        vertical-align: middle;\n",
       "    }\n",
       "\n",
       "    .dataframe tbody tr th {\n",
       "        vertical-align: top;\n",
       "    }\n",
       "\n",
       "    .dataframe thead th {\n",
       "        text-align: right;\n",
       "    }\n",
       "</style>\n",
       "<table border=\"1\" class=\"dataframe\">\n",
       "  <thead>\n",
       "    <tr style=\"text-align: right;\">\n",
       "      <th></th>\n",
       "      <th>author</th>\n",
       "      <th>content</th>\n",
       "      <th>description</th>\n",
       "      <th>publishedAt</th>\n",
       "      <th>source</th>\n",
       "      <th>title</th>\n",
       "      <th>url</th>\n",
       "      <th>urlToImage</th>\n",
       "    </tr>\n",
       "  </thead>\n",
       "  <tbody>\n",
       "    <tr>\n",
       "      <th>0</th>\n",
       "      <td>Michael Hardy</td>\n",
       "      <td>After years of playing with fire, Kevin Cooley...</td>\n",
       "      <td>Kevin Cooley nearly lost his house to the La T...</td>\n",
       "      <td>2019-01-04T14:00:00Z</td>\n",
       "      <td>{'id': 'wired', 'name': 'Wired'}</td>\n",
       "      <td>A Wildfire Was Extra Close to Home for This LA...</td>\n",
       "      <td>https://www.wired.com/story/la-tuna-wildfire-p...</td>\n",
       "      <td>https://media.wired.com/photos/5c1992a059e96b0...</td>\n",
       "    </tr>\n",
       "    <tr>\n",
       "      <th>1</th>\n",
       "      <td>Rayne Ellis</td>\n",
       "      <td>The Weather Channel wants to put you in the mi...</td>\n",
       "      <td>The Weather Channel wants to put you in the mi...</td>\n",
       "      <td>2018-10-18T20:15:13Z</td>\n",
       "      <td>{'id': 'mashable', 'name': 'Mashable'}</td>\n",
       "      <td>Watch a wildfire spark to life in high-tech We...</td>\n",
       "      <td>https://mashable.com/video/weather-channel-wil...</td>\n",
       "      <td>https://i.amz.mshcdn.com/GUXwKW6AbnF8TbIuB0sI8...</td>\n",
       "    </tr>\n",
       "    <tr>\n",
       "      <th>2</th>\n",
       "      <td>Devin Coldewey</td>\n",
       "      <td>Boeing has reportedly been struck in a major w...</td>\n",
       "      <td>Boeing has reportedly been struck in a major w...</td>\n",
       "      <td>2018-03-28T22:49:53Z</td>\n",
       "      <td>{'id': 'techcrunch', 'name': 'TechCrunch'}</td>\n",
       "      <td>Boeing reportedly hit by Wannacry ransomware</td>\n",
       "      <td>http://techcrunch.com/2018/03/28/boeing-report...</td>\n",
       "      <td>https://techcrunch.com/wp-content/uploads/2016...</td>\n",
       "    </tr>\n",
       "    <tr>\n",
       "      <th>3</th>\n",
       "      <td>Sarah Scoles</td>\n",
       "      <td>I first heard about Colorado’s Spring Fire on ...</td>\n",
       "      <td>The state's third-largest wildfire ever burned...</td>\n",
       "      <td>2018-07-20T17:29:49Z</td>\n",
       "      <td>{'id': 'wired', 'name': 'Wired'}</td>\n",
       "      <td>How a Team of Experts Quelled Colorado's Enorm...</td>\n",
       "      <td>https://www.wired.com/story/how-a-team-of-expe...</td>\n",
       "      <td>https://media.wired.com/photos/5b4fc95132ccf13...</td>\n",
       "    </tr>\n",
       "    <tr>\n",
       "      <th>4</th>\n",
       "      <td>Mallory Locklear</td>\n",
       "      <td>\"In supporting first responders in the Mendoci...</td>\n",
       "      <td>Earlier this week, Verizon came under fire for...</td>\n",
       "      <td>2018-08-24T17:47:00Z</td>\n",
       "      <td>{'id': 'engadget', 'name': 'Engadget'}</td>\n",
       "      <td>Verizon lifts data speed caps for wildfire res...</td>\n",
       "      <td>https://www.engadget.com/2018/08/24/verizon-li...</td>\n",
       "      <td>https://o.aolcdn.com/images/dims?thumbnail=120...</td>\n",
       "    </tr>\n",
       "  </tbody>\n",
       "</table>\n",
       "</div>"
      ],
      "text/plain": [
       "             author                                            content  \\\n",
       "0     Michael Hardy  After years of playing with fire, Kevin Cooley...   \n",
       "1       Rayne Ellis  The Weather Channel wants to put you in the mi...   \n",
       "2    Devin Coldewey  Boeing has reportedly been struck in a major w...   \n",
       "3      Sarah Scoles  I first heard about Colorado’s Spring Fire on ...   \n",
       "4  Mallory Locklear  \"In supporting first responders in the Mendoci...   \n",
       "\n",
       "                                         description           publishedAt  \\\n",
       "0  Kevin Cooley nearly lost his house to the La T...  2019-01-04T14:00:00Z   \n",
       "1  The Weather Channel wants to put you in the mi...  2018-10-18T20:15:13Z   \n",
       "2  Boeing has reportedly been struck in a major w...  2018-03-28T22:49:53Z   \n",
       "3  The state's third-largest wildfire ever burned...  2018-07-20T17:29:49Z   \n",
       "4  Earlier this week, Verizon came under fire for...  2018-08-24T17:47:00Z   \n",
       "\n",
       "                                       source  \\\n",
       "0            {'id': 'wired', 'name': 'Wired'}   \n",
       "1      {'id': 'mashable', 'name': 'Mashable'}   \n",
       "2  {'id': 'techcrunch', 'name': 'TechCrunch'}   \n",
       "3            {'id': 'wired', 'name': 'Wired'}   \n",
       "4      {'id': 'engadget', 'name': 'Engadget'}   \n",
       "\n",
       "                                               title  \\\n",
       "0  A Wildfire Was Extra Close to Home for This LA...   \n",
       "1  Watch a wildfire spark to life in high-tech We...   \n",
       "2       Boeing reportedly hit by Wannacry ransomware   \n",
       "3  How a Team of Experts Quelled Colorado's Enorm...   \n",
       "4  Verizon lifts data speed caps for wildfire res...   \n",
       "\n",
       "                                                 url  \\\n",
       "0  https://www.wired.com/story/la-tuna-wildfire-p...   \n",
       "1  https://mashable.com/video/weather-channel-wil...   \n",
       "2  http://techcrunch.com/2018/03/28/boeing-report...   \n",
       "3  https://www.wired.com/story/how-a-team-of-expe...   \n",
       "4  https://www.engadget.com/2018/08/24/verizon-li...   \n",
       "\n",
       "                                          urlToImage  \n",
       "0  https://media.wired.com/photos/5c1992a059e96b0...  \n",
       "1  https://i.amz.mshcdn.com/GUXwKW6AbnF8TbIuB0sI8...  \n",
       "2  https://techcrunch.com/wp-content/uploads/2016...  \n",
       "3  https://media.wired.com/photos/5b4fc95132ccf13...  \n",
       "4  https://o.aolcdn.com/images/dims?thumbnail=120...  "
      ]
     },
     "execution_count": 7,
     "metadata": {},
     "output_type": "execute_result"
    }
   ],
   "source": [
    "# View dataframe\n",
    "df.head()"
   ]
  },
  {
   "cell_type": "code",
   "execution_count": 8,
   "metadata": {},
   "outputs": [
    {
     "data": {
      "text/plain": [
       "(3000, 8)"
      ]
     },
     "execution_count": 8,
     "metadata": {},
     "output_type": "execute_result"
    }
   ],
   "source": [
    "# View shape\n",
    "df.shape"
   ]
  },
  {
   "cell_type": "markdown",
   "metadata": {},
   "source": [
    "### Clean data and save\n",
    "\n",
    "- remove unnecessary columns \n",
    "- create a column called `text` by combining title, description, and content columns"
   ]
  },
  {
   "cell_type": "code",
   "execution_count": 9,
   "metadata": {},
   "outputs": [],
   "source": [
    "# Create a new feature called text\n",
    "df.drop(['author', 'publishedAt', 'source', 'urlToImage'], axis=1, inplace=True)\n",
    "df['text'] = df['title'] + df['description'] + df['content']"
   ]
  },
  {
   "cell_type": "code",
   "execution_count": 10,
   "metadata": {},
   "outputs": [
    {
     "data": {
      "text/html": [
       "<div>\n",
       "<style scoped>\n",
       "    .dataframe tbody tr th:only-of-type {\n",
       "        vertical-align: middle;\n",
       "    }\n",
       "\n",
       "    .dataframe tbody tr th {\n",
       "        vertical-align: top;\n",
       "    }\n",
       "\n",
       "    .dataframe thead th {\n",
       "        text-align: right;\n",
       "    }\n",
       "</style>\n",
       "<table border=\"1\" class=\"dataframe\">\n",
       "  <thead>\n",
       "    <tr style=\"text-align: right;\">\n",
       "      <th></th>\n",
       "      <th>content</th>\n",
       "      <th>description</th>\n",
       "      <th>title</th>\n",
       "      <th>url</th>\n",
       "      <th>text</th>\n",
       "    </tr>\n",
       "  </thead>\n",
       "  <tbody>\n",
       "    <tr>\n",
       "      <th>0</th>\n",
       "      <td>After years of playing with fire, Kevin Cooley...</td>\n",
       "      <td>Kevin Cooley nearly lost his house to the La T...</td>\n",
       "      <td>A Wildfire Was Extra Close to Home for This LA...</td>\n",
       "      <td>https://www.wired.com/story/la-tuna-wildfire-p...</td>\n",
       "      <td>A Wildfire Was Extra Close to Home for This LA...</td>\n",
       "    </tr>\n",
       "    <tr>\n",
       "      <th>1</th>\n",
       "      <td>The Weather Channel wants to put you in the mi...</td>\n",
       "      <td>The Weather Channel wants to put you in the mi...</td>\n",
       "      <td>Watch a wildfire spark to life in high-tech We...</td>\n",
       "      <td>https://mashable.com/video/weather-channel-wil...</td>\n",
       "      <td>Watch a wildfire spark to life in high-tech We...</td>\n",
       "    </tr>\n",
       "    <tr>\n",
       "      <th>2</th>\n",
       "      <td>Boeing has reportedly been struck in a major w...</td>\n",
       "      <td>Boeing has reportedly been struck in a major w...</td>\n",
       "      <td>Boeing reportedly hit by Wannacry ransomware</td>\n",
       "      <td>http://techcrunch.com/2018/03/28/boeing-report...</td>\n",
       "      <td>Boeing reportedly hit by Wannacry ransomwareBo...</td>\n",
       "    </tr>\n",
       "    <tr>\n",
       "      <th>3</th>\n",
       "      <td>I first heard about Colorado’s Spring Fire on ...</td>\n",
       "      <td>The state's third-largest wildfire ever burned...</td>\n",
       "      <td>How a Team of Experts Quelled Colorado's Enorm...</td>\n",
       "      <td>https://www.wired.com/story/how-a-team-of-expe...</td>\n",
       "      <td>How a Team of Experts Quelled Colorado's Enorm...</td>\n",
       "    </tr>\n",
       "    <tr>\n",
       "      <th>4</th>\n",
       "      <td>\"In supporting first responders in the Mendoci...</td>\n",
       "      <td>Earlier this week, Verizon came under fire for...</td>\n",
       "      <td>Verizon lifts data speed caps for wildfire res...</td>\n",
       "      <td>https://www.engadget.com/2018/08/24/verizon-li...</td>\n",
       "      <td>Verizon lifts data speed caps for wildfire res...</td>\n",
       "    </tr>\n",
       "  </tbody>\n",
       "</table>\n",
       "</div>"
      ],
      "text/plain": [
       "                                             content  \\\n",
       "0  After years of playing with fire, Kevin Cooley...   \n",
       "1  The Weather Channel wants to put you in the mi...   \n",
       "2  Boeing has reportedly been struck in a major w...   \n",
       "3  I first heard about Colorado’s Spring Fire on ...   \n",
       "4  \"In supporting first responders in the Mendoci...   \n",
       "\n",
       "                                         description  \\\n",
       "0  Kevin Cooley nearly lost his house to the La T...   \n",
       "1  The Weather Channel wants to put you in the mi...   \n",
       "2  Boeing has reportedly been struck in a major w...   \n",
       "3  The state's third-largest wildfire ever burned...   \n",
       "4  Earlier this week, Verizon came under fire for...   \n",
       "\n",
       "                                               title  \\\n",
       "0  A Wildfire Was Extra Close to Home for This LA...   \n",
       "1  Watch a wildfire spark to life in high-tech We...   \n",
       "2       Boeing reportedly hit by Wannacry ransomware   \n",
       "3  How a Team of Experts Quelled Colorado's Enorm...   \n",
       "4  Verizon lifts data speed caps for wildfire res...   \n",
       "\n",
       "                                                 url  \\\n",
       "0  https://www.wired.com/story/la-tuna-wildfire-p...   \n",
       "1  https://mashable.com/video/weather-channel-wil...   \n",
       "2  http://techcrunch.com/2018/03/28/boeing-report...   \n",
       "3  https://www.wired.com/story/how-a-team-of-expe...   \n",
       "4  https://www.engadget.com/2018/08/24/verizon-li...   \n",
       "\n",
       "                                                text  \n",
       "0  A Wildfire Was Extra Close to Home for This LA...  \n",
       "1  Watch a wildfire spark to life in high-tech We...  \n",
       "2  Boeing reportedly hit by Wannacry ransomwareBo...  \n",
       "3  How a Team of Experts Quelled Colorado's Enorm...  \n",
       "4  Verizon lifts data speed caps for wildfire res...  "
      ]
     },
     "execution_count": 10,
     "metadata": {},
     "output_type": "execute_result"
    }
   ],
   "source": [
    "df.head()"
   ]
  },
  {
   "cell_type": "code",
   "execution_count": 11,
   "metadata": {},
   "outputs": [],
   "source": [
    "# Save articles related to different disasters in different dataframes\n",
    "df_wildfire = df.iloc[:1000]\n",
    "df_earthquake = df.iloc[1000:2000]\n",
    "df_flood = df.iloc[2000:]"
   ]
  },
  {
   "cell_type": "code",
   "execution_count": 12,
   "metadata": {},
   "outputs": [],
   "source": [
    "# Save dataframe to csv\n",
    "df_wildfire.to_csv('../data/wildfire.csv', index=False)\n",
    "df_earthquake.to_csv('../data/earthquake.csv', index=False)\n",
    "df_flood.to_csv('../data/flood.csv', index=False)"
   ]
  }
 ],
 "metadata": {
  "kernelspec": {
   "display_name": "Python [default]",
   "language": "python",
   "name": "python3"
  },
  "language_info": {
   "codemirror_mode": {
    "name": "ipython",
    "version": 3
   },
   "file_extension": ".py",
   "mimetype": "text/x-python",
   "name": "python",
   "nbconvert_exporter": "python",
   "pygments_lexer": "ipython3",
   "version": "3.6.5"
  },
  "varInspector": {
   "cols": {
    "lenName": 16,
    "lenType": 16,
    "lenVar": 40
   },
   "kernels_config": {
    "python": {
     "delete_cmd_postfix": "",
     "delete_cmd_prefix": "del ",
     "library": "var_list.py",
     "varRefreshCmd": "print(var_dic_list())"
    },
    "r": {
     "delete_cmd_postfix": ") ",
     "delete_cmd_prefix": "rm(",
     "library": "var_list.r",
     "varRefreshCmd": "cat(var_dic_list()) "
    }
   },
   "types_to_exclude": [
    "module",
    "function",
    "builtin_function_or_method",
    "instance",
    "_Feature"
   ],
   "window_display": false
  }
 },
 "nbformat": 4,
 "nbformat_minor": 2
}
