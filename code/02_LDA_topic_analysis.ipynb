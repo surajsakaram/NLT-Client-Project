{
 "cells": [
  {
   "cell_type": "markdown",
   "metadata": {},
   "source": [
    "# Analyze article topics using LDA \n",
    "---\n",
    "\n",
    "### Objective:"
   ]
  },
  {
   "cell_type": "code",
   "execution_count": 79,
   "metadata": {},
   "outputs": [],
   "source": [
    "import numpy as np\n",
    "import pandas as pd\n",
    "import matplotlib.pyplot as plt\n",
    "from sklearn.decomposition import LatentDirichletAllocation\n",
    "from sklearn.feature_extraction.text import TfidfVectorizer, ENGLISH_STOP_WORDS\n",
    "from sklearn.feature_extraction import text\n",
    "import pickle"
   ]
  },
  {
   "cell_type": "code",
   "execution_count": 80,
   "metadata": {},
   "outputs": [],
   "source": [
    "df_wildfire = pd.read_csv('../data/wildfire.csv')\n",
    "df_earthquake = pd.read_csv('../data/earthquake.csv')\n",
    "df_flood = pd.read_csv('../data/flood.csv')"
   ]
  },
  {
   "cell_type": "code",
   "execution_count": 118,
   "metadata": {},
   "outputs": [
    {
     "data": {
      "text/html": [
       "<div>\n",
       "<style scoped>\n",
       "    .dataframe tbody tr th:only-of-type {\n",
       "        vertical-align: middle;\n",
       "    }\n",
       "\n",
       "    .dataframe tbody tr th {\n",
       "        vertical-align: top;\n",
       "    }\n",
       "\n",
       "    .dataframe thead th {\n",
       "        text-align: right;\n",
       "    }\n",
       "</style>\n",
       "<table border=\"1\" class=\"dataframe\">\n",
       "  <thead>\n",
       "    <tr style=\"text-align: right;\">\n",
       "      <th></th>\n",
       "      <th>content</th>\n",
       "      <th>description</th>\n",
       "      <th>title</th>\n",
       "      <th>url</th>\n",
       "      <th>text</th>\n",
       "    </tr>\n",
       "  </thead>\n",
       "  <tbody>\n",
       "    <tr>\n",
       "      <th>0</th>\n",
       "      <td>After years of playing with fire, Kevin Cooley...</td>\n",
       "      <td>Kevin Cooley nearly lost his house to the La T...</td>\n",
       "      <td>A Wildfire Was Extra Close to Home for This LA...</td>\n",
       "      <td>https://www.wired.com/story/la-tuna-wildfire-p...</td>\n",
       "      <td>A Wildfire Was Extra Close to Home for This LA...</td>\n",
       "    </tr>\n",
       "    <tr>\n",
       "      <th>1</th>\n",
       "      <td>The Weather Channel wants to put you in the mi...</td>\n",
       "      <td>The Weather Channel wants to put you in the mi...</td>\n",
       "      <td>Watch a wildfire spark to life in high-tech We...</td>\n",
       "      <td>https://mashable.com/video/weather-channel-wil...</td>\n",
       "      <td>Watch a wildfire spark to life in high-tech We...</td>\n",
       "    </tr>\n",
       "    <tr>\n",
       "      <th>2</th>\n",
       "      <td>Boeing has reportedly been struck in a major w...</td>\n",
       "      <td>Boeing has reportedly been struck in a major w...</td>\n",
       "      <td>Boeing reportedly hit by Wannacry ransomware</td>\n",
       "      <td>http://techcrunch.com/2018/03/28/boeing-report...</td>\n",
       "      <td>Boeing reportedly hit by Wannacry ransomwareBo...</td>\n",
       "    </tr>\n",
       "    <tr>\n",
       "      <th>3</th>\n",
       "      <td>I first heard about Colorado’s Spring Fire on ...</td>\n",
       "      <td>The state's third-largest wildfire ever burned...</td>\n",
       "      <td>How a Team of Experts Quelled Colorado's Enorm...</td>\n",
       "      <td>https://www.wired.com/story/how-a-team-of-expe...</td>\n",
       "      <td>How a Team of Experts Quelled Colorado's Enorm...</td>\n",
       "    </tr>\n",
       "    <tr>\n",
       "      <th>4</th>\n",
       "      <td>\"In supporting first responders in the Mendoci...</td>\n",
       "      <td>Earlier this week, Verizon came under fire for...</td>\n",
       "      <td>Verizon lifts data speed caps for wildfire res...</td>\n",
       "      <td>https://www.engadget.com/2018/08/24/verizon-li...</td>\n",
       "      <td>Verizon lifts data speed caps for wildfire res...</td>\n",
       "    </tr>\n",
       "  </tbody>\n",
       "</table>\n",
       "</div>"
      ],
      "text/plain": [
       "                                             content  \\\n",
       "0  After years of playing with fire, Kevin Cooley...   \n",
       "1  The Weather Channel wants to put you in the mi...   \n",
       "2  Boeing has reportedly been struck in a major w...   \n",
       "3  I first heard about Colorado’s Spring Fire on ...   \n",
       "4  \"In supporting first responders in the Mendoci...   \n",
       "\n",
       "                                         description  \\\n",
       "0  Kevin Cooley nearly lost his house to the La T...   \n",
       "1  The Weather Channel wants to put you in the mi...   \n",
       "2  Boeing has reportedly been struck in a major w...   \n",
       "3  The state's third-largest wildfire ever burned...   \n",
       "4  Earlier this week, Verizon came under fire for...   \n",
       "\n",
       "                                               title  \\\n",
       "0  A Wildfire Was Extra Close to Home for This LA...   \n",
       "1  Watch a wildfire spark to life in high-tech We...   \n",
       "2       Boeing reportedly hit by Wannacry ransomware   \n",
       "3  How a Team of Experts Quelled Colorado's Enorm...   \n",
       "4  Verizon lifts data speed caps for wildfire res...   \n",
       "\n",
       "                                                 url  \\\n",
       "0  https://www.wired.com/story/la-tuna-wildfire-p...   \n",
       "1  https://mashable.com/video/weather-channel-wil...   \n",
       "2  http://techcrunch.com/2018/03/28/boeing-report...   \n",
       "3  https://www.wired.com/story/how-a-team-of-expe...   \n",
       "4  https://www.engadget.com/2018/08/24/verizon-li...   \n",
       "\n",
       "                                                text  \n",
       "0  A Wildfire Was Extra Close to Home for This LA...  \n",
       "1  Watch a wildfire spark to life in high-tech We...  \n",
       "2  Boeing reportedly hit by Wannacry ransomwareBo...  \n",
       "3  How a Team of Experts Quelled Colorado's Enorm...  \n",
       "4  Verizon lifts data speed caps for wildfire res...  "
      ]
     },
     "execution_count": 118,
     "metadata": {},
     "output_type": "execute_result"
    }
   ],
   "source": [
    "df_wildfire.head()"
   ]
  },
  {
   "cell_type": "code",
   "execution_count": 81,
   "metadata": {},
   "outputs": [
    {
     "data": {
      "text/plain": [
       "content        126\n",
       "description      0\n",
       "title            0\n",
       "url              0\n",
       "text           126\n",
       "dtype: int64"
      ]
     },
     "execution_count": 81,
     "metadata": {},
     "output_type": "execute_result"
    }
   ],
   "source": [
    "df_wildfire.isna().sum()"
   ]
  },
  {
   "cell_type": "code",
   "execution_count": 82,
   "metadata": {},
   "outputs": [
    {
     "data": {
      "text/plain": [
       "content        86\n",
       "description     2\n",
       "title           0\n",
       "url             0\n",
       "text           86\n",
       "dtype: int64"
      ]
     },
     "execution_count": 82,
     "metadata": {},
     "output_type": "execute_result"
    }
   ],
   "source": [
    "df_earthquake.isna().sum()"
   ]
  },
  {
   "cell_type": "code",
   "execution_count": 83,
   "metadata": {},
   "outputs": [
    {
     "data": {
      "text/plain": [
       "content        82\n",
       "description     0\n",
       "title           0\n",
       "url             0\n",
       "text           82\n",
       "dtype: int64"
      ]
     },
     "execution_count": 83,
     "metadata": {},
     "output_type": "execute_result"
    }
   ],
   "source": [
    "df_flood.isna().sum()"
   ]
  },
  {
   "cell_type": "code",
   "execution_count": 84,
   "metadata": {},
   "outputs": [],
   "source": [
    "df_wildfire.fillna('', inplace=True)\n",
    "df_earthquake.fillna('', inplace=True)\n",
    "df_flood.fillna('', inplace=True)"
   ]
  },
  {
   "cell_type": "code",
   "execution_count": 85,
   "metadata": {},
   "outputs": [
    {
     "data": {
      "text/plain": [
       "content        0\n",
       "description    0\n",
       "title          0\n",
       "url            0\n",
       "text           0\n",
       "dtype: int64"
      ]
     },
     "execution_count": 85,
     "metadata": {},
     "output_type": "execute_result"
    }
   ],
   "source": [
    "df_wildfire.isna().sum()"
   ]
  },
  {
   "cell_type": "code",
   "execution_count": 109,
   "metadata": {},
   "outputs": [],
   "source": [
    "# Instantiate and vectorize data using TFIDF\n",
    "my_stop_words = list(ENGLISH_STOP_WORDS)\n",
    "wf_vect = TfidfVectorizer(stop_words=my_stop_words, token_pattern='[a-zA-Z]+', min_df=5, max_features=5000)\n",
    "wf_fit = wf_vect.fit(df_wildfire['text'])\n",
    "wf_transform = wf_fit.transform(df_wildfire['text']).toarray()\n",
    "wildfire_tf = pd.DataFrame(wf_transform, columns = wf_fit.get_feature_names())\n",
    "\n",
    "eq_vect = TfidfVectorizer(stop_words=my_stop_words, token_pattern='[a-zA-Z]+', min_df=5, max_features=5000)\n",
    "eq_fit = eq_vect.fit(df_earthquake['text'])\n",
    "eq_transform = eq_fit.transform(df_earthquake['text']).toarray()\n",
    "earthquake_tf = pd.DataFrame(eq_transform, columns = eq_fit.get_feature_names())\n",
    "\n",
    "fl_vect = TfidfVectorizer(stop_words=my_stop_words, token_pattern='[a-zA-Z]+', min_df=5, max_features=5000)\n",
    "fl_fit = fl_vect.fit(df_flood['text'])\n",
    "fl_transform = fl_fit.transform(df_flood['text']).toarray()\n",
    "flood_tf = pd.DataFrame(fl_transform, columns = fl_fit.get_feature_names())"
   ]
  },
  {
   "cell_type": "code",
   "execution_count": 111,
   "metadata": {},
   "outputs": [
    {
     "data": {
      "text/plain": [
       "(1000, 5000)"
      ]
     },
     "execution_count": 111,
     "metadata": {},
     "output_type": "execute_result"
    }
   ],
   "source": [
    "wildfire_tf.shape"
   ]
  },
  {
   "cell_type": "code",
   "execution_count": 112,
   "metadata": {},
   "outputs": [],
   "source": [
    "def display_topics(model, feature_names, no_words = 10, plot = False, plot_dim=(5,2)):\n",
    "    \n",
    "    topics_tokens = []\n",
    "    for topic_idx, topic in enumerate(model.components_):\n",
    "        topic = zip(feature_names, topic)\n",
    "        topic = sorted(topic, key=lambda pair: pair[1])\n",
    "        topic_words = [(token, counts)\n",
    "                       for token, counts in topic[:-no_words - 1:-1]]\n",
    "        topics_tokens.append(topic_words)\n",
    "        if not plot:\n",
    "            print (\"Topic %d:\" % (topic_idx))\n",
    "            print (topic_words)\n",
    "        \n",
    "    \n",
    "    if plot:\n",
    "        plot_matrix = np.arange(10).reshape(5,2)\n",
    "        fig, ax = plt.subplots(figsize=(10, 6), nrows=2, ncols=2)\n",
    "        topics = [\n",
    "            {key: value for key, value in topic} \n",
    "                  for topic in topics_tokens\n",
    "        ]\n",
    "        row = 0\n",
    "        for topic_id, topic in enumerate(topics):\n",
    "            column = (0 if topic_id % 2 == 0 else 1)\n",
    "            chart = pd.DataFrame([topic]).iloc[0].sort_values(axis=0)\n",
    "            chart.plot(kind=\"barh\", title=\"Topic %d\" % topic_id, ax=ax[row, column])\n",
    "            row += 1 if column == 1 else 0\n",
    "        \n",
    "        plt.tight_layout()"
   ]
  },
  {
   "cell_type": "code",
   "execution_count": 168,
   "metadata": {},
   "outputs": [],
   "source": [
    "wf_lda = LatentDirichletAllocation(n_components=4, learning_method=\"batch\", random_state=42, doc_topic_prior=0.5)\n",
    "wildfire_model = wf_lda.fit(wildfire_tf)\n",
    "pickle.dump(wildfire_model, open('../pickles/wildfire_2.pk', 'wb'))\n",
    "\n",
    "eq_lda = LatentDirichletAllocation(n_components=4, learning_method=\"batch\", random_state=42, doc_topic_prior=0.5)\n",
    "earthquake_model = eq_lda.fit(earthquake_tf)\n",
    "pickle.dump(earthquake_model, open('../pickles/earthquake_2.pk', 'wb'))\n",
    "\n",
    "fl_lda = LatentDirichletAllocation(n_components=4, learning_method=\"batch\", random_state=42, doc_topic_prior=0.5)\n",
    "flood_model = fl_lda.fit(flood_tf)\n",
    "pickle.dump(flood_model, open('../pickles/flood_2.pk', 'wb'))"
   ]
  },
  {
   "cell_type": "code",
   "execution_count": 114,
   "metadata": {},
   "outputs": [
    {
     "data": {
      "text/plain": [
       "LatentDirichletAllocation(batch_size=128, doc_topic_prior=0.5,\n",
       "             evaluate_every=-1, learning_decay=0.7,\n",
       "             learning_method='batch', learning_offset=10.0,\n",
       "             max_doc_update_iter=100, max_iter=10, mean_change_tol=0.001,\n",
       "             n_components=4, n_jobs=1, n_topics=None, perp_tol=0.1,\n",
       "             random_state=42, topic_word_prior=None,\n",
       "             total_samples=1000000.0, verbose=0)"
      ]
     },
     "execution_count": 114,
     "metadata": {},
     "output_type": "execute_result"
    }
   ],
   "source": [
    "wildfire_model"
   ]
  },
  {
   "cell_type": "code",
   "execution_count": 159,
   "metadata": {},
   "outputs": [
    {
     "data": {
      "image/png": "[encoded data removed]",
      "text/plain": [
       "<Figure size 720x432 with 4 Axes>"
      ]
     },
     "metadata": {
      "needs_background": "light"
     },
     "output_type": "display_data"
    }
   ],
   "source": [
    "display_topics(wildfire_model, wf_vect.get_feature_names(), plot = True)"
   ]
  },
  {
   "cell_type": "code",
   "execution_count": 160,
   "metadata": {},
   "outputs": [
    {
     "data": {
      "image/png": "[encoded data removed]",
      "text/plain": [
       "<Figure size 720x432 with 4 Axes>"
      ]
     },
     "metadata": {
      "needs_background": "light"
     },
     "output_type": "display_data"
    }
   ],
   "source": [
    "display_topics(earthquake_model, eq_vect.get_feature_names(), plot = True)"
   ]
  },
  {
   "cell_type": "code",
   "execution_count": 161,
   "metadata": {},
   "outputs": [
    {
     "data": {
      "image/png": "[encoded data removed]",
      "text/plain": [
       "<Figure size 720x432 with 4 Axes>"
      ]
     },
     "metadata": {
      "needs_background": "light"
     },
     "output_type": "display_data"
    }
   ],
   "source": [
    "display_topics(flood_model, fl_vect.get_feature_names(), plot = True)"
   ]
  },
  {
   "cell_type": "code",
   "execution_count": 162,
   "metadata": {},
   "outputs": [],
   "source": [
    "wf_words = wildfire_model.transform(wildfire_tf)\n",
    "wildfire_doc_topics = pd.DataFrame(wf_words, columns=[\"topic %d\" % i for i in range(wf_words.shape[1])])\n",
    "top_wftopics = (wildfire_doc_topics['topic 1'] > .3)\n",
    "wf_articles = wildfire_doc_topics[top_wftopics].index\n",
    "\n",
    "wf_df = df_wildfire.loc[wf_articles]\n",
    "# sorted_wildfires = wf_df.sort_values(by = 'publishedAt', ascending =False)\n",
    "# sorted_wildfires.drop(['content', 'text'], axis = 1, inplace= True)"
   ]
  },
  {
   "cell_type": "code",
   "execution_count": 163,
   "metadata": {},
   "outputs": [
    {
     "data": {
      "text/plain": [
       "(874, 5)"
      ]
     },
     "execution_count": 163,
     "metadata": {},
     "output_type": "execute_result"
    }
   ],
   "source": [
    "wf_df.shape"
   ]
  },
  {
   "cell_type": "code",
   "execution_count": 164,
   "metadata": {},
   "outputs": [],
   "source": [
    "eq_words = earthquake_model.transform(earthquake_tf)\n",
    "earthquake_doc_topics = pd.DataFrame(eq_words, columns=[\"topic %d\" % i for i in range(eq_words.shape[1])])\n",
    "top_eqtopics = (earthquake_doc_topics['topic 1'] > .3)\n",
    "eq_articles = earthquake_doc_topics[top_eqtopics].index\n",
    "\n",
    "eq_df = df_earthquake.loc[eq_articles]\n",
    "# sorted_earthquakes = eq_df.sort_values(by = 'publishedAt', ascending =False)\n",
    "# sorted_earthquakes.drop(['content', 'text'], axis = 1, inplace= True)"
   ]
  },
  {
   "cell_type": "code",
   "execution_count": 165,
   "metadata": {},
   "outputs": [
    {
     "data": {
      "text/plain": [
       "(747, 5)"
      ]
     },
     "execution_count": 165,
     "metadata": {},
     "output_type": "execute_result"
    }
   ],
   "source": [
    "eq_df.shape"
   ]
  },
  {
   "cell_type": "code",
   "execution_count": 166,
   "metadata": {},
   "outputs": [],
   "source": [
    "fl_words = flood_model.transform(flood_tf)\n",
    "flood_doc_topics = pd.DataFrame(fl_words, columns=[\"topic %d\" % i for i in range(eq_words.shape[1])])\n",
    "top_fltopics = (flood_doc_topics['topic 1'] > .3)\n",
    "fl_articles = flood_doc_topics[top_fltopics].index\n",
    "\n",
    "fl_df = df_flood.loc[fl_articles]\n",
    "# sorted_floods = fl_df.sort_values(by = 'publishedAt', ascending =False)\n",
    "# sorted_floods.drop(['content', 'text'], axis = 1, inplace= True)"
   ]
  },
  {
   "cell_type": "code",
   "execution_count": 167,
   "metadata": {},
   "outputs": [
    {
     "data": {
      "text/plain": [
       "(427, 5)"
      ]
     },
     "execution_count": 167,
     "metadata": {},
     "output_type": "execute_result"
    }
   ],
   "source": [
    "fl_df.shape"
   ]
  },
  {
   "cell_type": "markdown",
   "metadata": {},
   "source": [
    "## Pickle necessary objects for flask server"
   ]
  },
  {
   "cell_type": "code",
   "execution_count": 57,
   "metadata": {},
   "outputs": [],
   "source": [
    "pickle.dump(wf_fit, open('../pickles/wildfire_vect.pk', 'wb'))\n",
    "\n",
    "pickle.dump(eq_fit, open('../pickles/earthquake_vect.pk', 'wb'))\n",
    "\n",
    "pickle.dump(fl_fit, open('../pickles/flood_vect.pk', 'wb'))"
   ]
  },
  {
   "cell_type": "code",
   "execution_count": null,
   "metadata": {},
   "outputs": [],
   "source": []
  }
 ],
 "metadata": {
  "kernelspec": {
   "display_name": "Python [conda env:dsi]",
   "language": "python",
   "name": "conda-env-dsi-py"
  },
  "language_info": {
   "codemirror_mode": {
    "name": "ipython",
    "version": 3
   },
   "file_extension": ".py",
   "mimetype": "text/x-python",
   "name": "python",
   "nbconvert_exporter": "python",
   "pygments_lexer": "ipython3",
   "version": "3.6.5"
  },
  "varInspector": {
   "cols": {
    "lenName": 16,
    "lenType": 16,
    "lenVar": 40
   },
   "kernels_config": {
    "python": {
     "delete_cmd_postfix": "",
     "delete_cmd_prefix": "del ",
     "library": "var_list.py",
     "varRefreshCmd": "print(var_dic_list())"
    },
    "r": {
     "delete_cmd_postfix": ") ",
     "delete_cmd_prefix": "rm(",
     "library": "var_list.r",
     "varRefreshCmd": "cat(var_dic_list()) "
    }
   },
   "types_to_exclude": [
    "module",
    "function",
    "builtin_function_or_method",
    "instance",
    "_Feature"
   ],
   "window_display": false
  }
 },
 "nbformat": 4,
 "nbformat_minor": 2
}
