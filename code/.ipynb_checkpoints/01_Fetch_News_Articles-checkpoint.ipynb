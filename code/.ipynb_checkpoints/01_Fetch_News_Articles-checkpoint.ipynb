{
 "cells": [
  {
   "cell_type": "markdown",
   "metadata": {},
   "source": [
    "# Fetch News Articles using News API\n",
    "\n",
    "### Objective: \n",
    "---\n",
    "Use News API to "
   ]
  },
  {
   "cell_type": "code",
   "execution_count": 1,
   "metadata": {},
   "outputs": [],
   "source": [
    "import requests\n",
    "import pandas as pd"
   ]
  },
  {
   "cell_type": "code",
   "execution_count": 2,
   "metadata": {},
   "outputs": [],
   "source": [
    "# Define params for News API\n",
    "\n",
    "url = 'https://newsapi.org/v2/everything?'\n",
    "\n",
    "param = {\n",
    "    'q'        : '',\n",
    "    'apiKey'   : 'e685d6e1420f4882b86d029ed3c1a11d',\n",
    "    'pageSize' : 100,\n",
    "    'language' : 'en',\n",
    "    'sortBy'   : 'relevancy',\n",
    "    'page'     : 1\n",
    "}\n",
    "\n",
    "# response = requests.get(url, params=param)"
   ]
  },
  {
   "cell_type": "code",
   "execution_count": 3,
   "metadata": {},
   "outputs": [],
   "source": [
    "data = []\n",
    "disasters = ['wildfire', 'earthquake', 'flood']\n",
    "\n",
    "for disaster in disasters:\n",
    "    for page in range(1, 11):\n",
    "        param['page'] = page\n",
    "        param['q'] = disaster\n",
    "        response = requests.get(url = url, headers = {'User-agent': 'Infinity browser'}, params = param)\n",
    "        json = response.json()['articles']\n",
    "        data.extend(json)    \n",
    "    df = pd.DataFrame(data)"
   ]
  },
  {
   "cell_type": "code",
   "execution_count": 4,
   "metadata": {},
   "outputs": [],
   "source": [
    "df.drop(['author', 'publishedAt', 'source', 'urlToImage'], axis=1, inplace=True)\n",
    "df['text'] = df['title'] + df['description'] + df['content']"
   ]
  },
  {
   "cell_type": "code",
   "execution_count": 13,
   "metadata": {},
   "outputs": [],
   "source": [
    "df_wildfire = df.iloc[:1000]\n",
    "df_earthquake = df.iloc[1000:2000]\n",
    "df_flood = df.iloc[2000:]"
   ]
  },
  {
   "cell_type": "code",
   "execution_count": 17,
   "metadata": {},
   "outputs": [],
   "source": [
    "df_wildfire.to_csv('../Data/wildfire.csv', index=False)\n",
    "df_earthquake.to_csv('../Data/earthquake.csv', index=False)\n",
    "df_flood.to_csv('../Data/flood.csv', index=False)"
   ]
  }
 ],
 "metadata": {
  "kernelspec": {
   "display_name": "Python [default]",
   "language": "python",
   "name": "python3"
  },
  "language_info": {
   "codemirror_mode": {
    "name": "ipython",
    "version": 3
   },
   "file_extension": ".py",
   "mimetype": "text/x-python",
   "name": "python",
   "nbconvert_exporter": "python",
   "pygments_lexer": "ipython3",
   "version": "3.6.5"
  },
  "varInspector": {
   "cols": {
    "lenName": 16,
    "lenType": 16,
    "lenVar": 40
   },
   "kernels_config": {
    "python": {
     "delete_cmd_postfix": "",
     "delete_cmd_prefix": "del ",
     "library": "var_list.py",
     "varRefreshCmd": "print(var_dic_list())"
    },
    "r": {
     "delete_cmd_postfix": ") ",
     "delete_cmd_prefix": "rm(",
     "library": "var_list.r",
     "varRefreshCmd": "cat(var_dic_list()) "
    }
   },
   "types_to_exclude": [
    "module",
    "function",
    "builtin_function_or_method",
    "instance",
    "_Feature"
   ],
   "window_display": false
  }
 },
 "nbformat": 4,
 "nbformat_minor": 2
}
